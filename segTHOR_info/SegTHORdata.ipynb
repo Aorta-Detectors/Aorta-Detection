{
  "cells": [
    {
      "cell_type": "code",
      "execution_count": 23,
      "metadata": {
        "colab": {
          "base_uri": "https://localhost:8080/"
        },
        "id": "37F1xrxliXtt",
        "outputId": "d9166202-eceb-4367-d864-23700273c547"
      },
      "outputs": [
        {
          "name": "stdout",
          "output_type": "stream",
          "text": [
            "Drive already mounted at /content/drive; to attempt to forcibly remount, call drive.mount(\"/content/drive\", force_remount=True).\n"
          ]
        }
      ],
      "source": [
        "from google.colab import drive\n",
        "drive.mount('/content/drive')"
      ]
    },
    {
      "cell_type": "markdown",
      "metadata": {
        "id": "zbApcXaOLc-4"
      },
      "source": [
        "Установка компонентов"
      ]
    },
    {
      "cell_type": "code",
      "execution_count": null,
      "metadata": {
        "id": "X9TzzagHicsA"
      },
      "outputs": [],
      "source": [
        "!pip install SimpleITK\n",
        "!pip install torchmetrics\n",
        "!pip install progress"
      ]
    },
    {
      "cell_type": "markdown",
      "metadata": {
        "id": "N5X7660OLhv0"
      },
      "source": [
        "Модель UNet"
      ]
    },
    {
      "cell_type": "code",
      "execution_count": 3,
      "metadata": {
        "id": "-puCru2uo_Iy"
      },
      "outputs": [],
      "source": [
        "import torch\n",
        "import torch.nn as nn\n",
        "\n",
        "#Двойная свертка\n",
        "def double_convolution(in_channels, out_channels):\n",
        "    conv_op = nn.Sequential(\n",
        "        nn.Conv2d(in_channels, out_channels, kernel_size=3, padding=1),\n",
        "        nn.ReLU(inplace=True),\n",
        "        nn.Conv2d(out_channels, out_channels, kernel_size=3, padding=1),\n",
        "        nn.ReLU(inplace=True)\n",
        "        )\n",
        "    return conv_op\n",
        "\n",
        "\n",
        "class UNet(nn.Module):\n",
        "    def __init__(self, num_classes=1):\n",
        "        super(UNet, self).__init__()\n",
        "        self.max_pool2d = nn.MaxPool2d(kernel_size=2, stride=2)\n",
        "        # Сужение.\n",
        "        # Каждая свертка применяется дважды.\n",
        "        self.down_convolution_1 = double_convolution(1, 64)# 1 или 3?\n",
        "        self.down_convolution_2 = double_convolution(64, 128)\n",
        "        self.down_convolution_3 = double_convolution(128, 256)\n",
        "        self.down_convolution_4 = double_convolution(256, 512)\n",
        "        self.down_convolution_5 = double_convolution(512, 1024)\n",
        "\n",
        "        # Расширение.\n",
        "        self.up_transpose_1 = nn.ConvTranspose2d( in_channels=1024,\n",
        "                                                  out_channels=512,\n",
        "                                                  kernel_size=2,\n",
        "                                                  stride=2)\n",
        "\n",
        "\n",
        "        self.up_convolution_1 = double_convolution(1024, 512)\n",
        "        self.up_transpose_2 = nn.ConvTranspose2d( in_channels=512,\n",
        "                                                  out_channels=256,\n",
        "                                                  kernel_size=2,\n",
        "                                                  stride=2)\n",
        "        self.up_convolution_2 = double_convolution(512, 256)\n",
        "        self.up_transpose_3 = nn.ConvTranspose2d( in_channels=256,\n",
        "                                                  out_channels=128,\n",
        "                                                  kernel_size=2,\n",
        "                                                  stride=2)\n",
        "        self.up_convolution_3 = double_convolution(256, 128)\n",
        "        self.up_transpose_4 = nn.ConvTranspose2d( in_channels=128,\n",
        "                                                  out_channels=64,\n",
        "                                                  kernel_size=2,\n",
        "                                                  stride=2)\n",
        "        self.up_convolution_4 = double_convolution(128, 64)\n",
        "        # output => `out_channels` as per the number of classes.\n",
        "        self.out = nn.Conv2d(in_channels=64,\n",
        "                             out_channels=num_classes,\n",
        "                             kernel_size=1)\n",
        "    def forward(self, x):\n",
        "        down_1 = self.down_convolution_1(x)\n",
        "        down_2 = self.max_pool2d(down_1)\n",
        "        down_3 = self.down_convolution_2(down_2)\n",
        "        down_4 = self.max_pool2d(down_3)\n",
        "        down_5 = self.down_convolution_3(down_4)\n",
        "        down_6 = self.max_pool2d(down_5)\n",
        "        down_7 = self.down_convolution_4(down_6)\n",
        "        down_8 = self.max_pool2d(down_7)\n",
        "        down_9 = self.down_convolution_5(down_8)\n",
        "\n",
        "\n",
        "        up_1 = self.up_transpose_1(down_9)\n",
        "        x = self.up_convolution_1(torch.cat([down_7, up_1], 1))\n",
        "        up_2 = self.up_transpose_2(x)\n",
        "        x = self.up_convolution_2(torch.cat([down_5, up_2], 1))\n",
        "        up_3 = self.up_transpose_3(x)\n",
        "        x = self.up_convolution_3(torch.cat([down_3, up_3], 1))\n",
        "        up_4 = self.up_transpose_4(x)\n",
        "        x = self.up_convolution_4(torch.cat([down_1, up_4], 1))\n",
        "        out = self.out(x)\n",
        "        return out\n"
      ]
    },
    {
      "cell_type": "markdown",
      "metadata": {
        "id": "YYVbXWO2LmY3"
      },
      "source": [
        "Распределение файлов на тренировочную, валидационную и тестовую"
      ]
    },
    {
      "cell_type": "code",
      "execution_count": 6,
      "metadata": {
        "colab": {
          "base_uri": "https://localhost:8080/"
        },
        "id": "QISlrks-5L_q",
        "outputId": "6b8bcd7a-54c6-49cb-9693-dbf8263c8de5"
      },
      "outputs": [
        {
          "name": "stdout",
          "output_type": "stream",
          "text": [
            "[22, 1, 33, 2, 4, 39, 5, 37, 10, 17, 6, 8, 14, 21, 29, 32, 18, 24, 28, 30, 13, 36, 7, 3]\n",
            "[11, 27, 31, 12, 15, 35, 23, 19]\n",
            "[34, 38, 40, 9, 16, 20, 25, 26]\n"
          ]
        }
      ],
      "source": [
        "from pathlib import Path\n",
        "import random\n",
        "content_path = \"/content/drive/MyDrive/SegTHOR_DB\"\n",
        "content_directory = Path(content_path)\n",
        "ids = content_directory.glob('*_image*')\n",
        "ids = [id.stem for id in ids]\n",
        "ids = [id.split('_')[0] for id in ids]\n",
        "ids = sorted(map(int, ids))\n",
        "train_count = len(ids)*6//10\n",
        "train_ids = random.sample(ids, train_count)\n",
        "val_ids=list(set(ids)-set(train_ids))\n",
        "val_count = len(val_ids)//2\n",
        "val_ids = random.sample(val_ids, val_count)\n",
        "test_ids = list(set(ids)-set(train_ids)-set(val_ids))\n",
        "print(train_ids)\n",
        "print(val_ids)\n",
        "print(test_ids)"
      ]
    },
    {
      "cell_type": "markdown",
      "metadata": {
        "id": "mlQv5P_uL59O"
      },
      "source": [
        "Функция для расчета IoU метрики"
      ]
    },
    {
      "cell_type": "code",
      "execution_count": 7,
      "metadata": {
        "id": "OXyMj81vBU0i"
      },
      "outputs": [],
      "source": [
        "def iou_pytorch(outputs: torch.Tensor, labels: torch.Tensor):\n",
        "    outputs = outputs.squeeze(1).byte()  # BATCH x 1 x H x W => BATCH x H x W\n",
        "    labels = labels.squeeze(1).byte()\n",
        "    intersection = (outputs & labels).float().sum((1, 2))\n",
        "    union = (outputs | labels).float().sum((1, 2))\n",
        "\n",
        "    iou = (intersection) / (union)\n",
        "\n",
        "    return iou"
      ]
    },
    {
      "cell_type": "markdown",
      "metadata": {
        "id": "pNCCsn9gL_Fi"
      },
      "source": [
        "Подключение библиотек"
      ]
    },
    {
      "cell_type": "code",
      "execution_count": 8,
      "metadata": {
        "id": "rxU67PYVDTCp"
      },
      "outputs": [],
      "source": [
        "import torch\n",
        "import matplotlib.pyplot as plt\n",
        "import numpy as np\n",
        "import torch.nn.functional as func\n",
        "import PIL.ImageOps\n",
        "from torch import nn\n",
        "from torchvision import datasets,transforms\n",
        "import SimpleITK as itk\n",
        "from torchmetrics.detection import IntersectionOverUnion as IoU\n",
        "from tqdm import tqdm"
      ]
    },
    {
      "cell_type": "markdown",
      "metadata": {
        "id": "YvadiCrmME58"
      },
      "source": [
        "Объявление гипер параметров"
      ]
    },
    {
      "cell_type": "code",
      "execution_count": 9,
      "metadata": {
        "id": "PQ2PQ3l4DXCo"
      },
      "outputs": [],
      "source": [
        "#https://pythonpip.ru/pytorch/obuchenie-modeli-svertochnoy-neyronnoy-seti\n",
        "device=torch.device(\"cuda:0\" if torch.cuda.is_available() else \"cpu\")\n",
        "model=UNet().to(device)\n",
        "criteron=nn.BCEWithLogitsLoss()\n",
        "optimizer=torch.optim.Adam(model.parameters(),lr=0.00001)\n",
        "epochs=8\n",
        "metric_IoU = IoU()\n",
        "loss_history=[]\n",
        "metric_history=[]\n",
        "correct_history=[]\n",
        "val_loss_history=[]\n",
        "val_metric_history=[]\n",
        "val_correct_history=[]\n",
        "model_history=[]\n",
        "path=\"/content/drive/MyDrive/SegTHOR_DB\"\n",
        "\n",
        "\n",
        "transform = transforms.Compose([\n",
        "    transforms.ToTensor()\n",
        "])"
      ]
    },
    {
      "cell_type": "markdown",
      "metadata": {
        "id": "GqlCbE--MOK1"
      },
      "source": [
        "Обучение модели"
      ]
    },
    {
      "cell_type": "code",
      "execution_count": 10,
      "metadata": {
        "colab": {
          "base_uri": "https://localhost:8080/"
        },
        "id": "BK9T5Obr4ADL",
        "outputId": "028f3264-f04d-44f5-89ed-916f61d53c48"
      },
      "outputs": [
        {
          "name": "stderr",
          "output_type": "stream",
          "text": [
            "100%|██████████| 12/12 [09:51<00:00, 49.29s/it]\n",
            "100%|██████████| 4/4 [01:13<00:00, 18.35s/it]\n"
          ]
        },
        {
          "name": "stdout",
          "output_type": "stream",
          "text": [
            "training_loss:4.8018,26864404.0000\n",
            "validation_loss:0.9938,23283412.0000\n"
          ]
        },
        {
          "name": "stderr",
          "output_type": "stream",
          "text": [
            "100%|██████████| 12/12 [09:25<00:00, 47.13s/it]\n",
            "100%|██████████| 4/4 [01:03<00:00, 15.79s/it]\n"
          ]
        },
        {
          "name": "stdout",
          "output_type": "stream",
          "text": [
            "training_loss:0.4377,26864404.0000\n",
            "validation_loss:0.7024,23283412.0000\n"
          ]
        },
        {
          "name": "stderr",
          "output_type": "stream",
          "text": [
            "100%|██████████| 12/12 [09:23<00:00, 46.94s/it]\n",
            "100%|██████████| 4/4 [01:03<00:00, 15.77s/it]\n"
          ]
        },
        {
          "name": "stdout",
          "output_type": "stream",
          "text": [
            "training_loss:0.3509,26864404.0000\n",
            "validation_loss:0.5917,23283412.0000\n"
          ]
        },
        {
          "name": "stderr",
          "output_type": "stream",
          "text": [
            "100%|██████████| 12/12 [09:17<00:00, 46.45s/it]\n",
            "100%|██████████| 4/4 [01:05<00:00, 16.44s/it]\n"
          ]
        },
        {
          "name": "stdout",
          "output_type": "stream",
          "text": [
            "training_loss:0.2973,26864404.0000\n",
            "validation_loss:0.4755,23283412.0000\n"
          ]
        },
        {
          "name": "stderr",
          "output_type": "stream",
          "text": [
            "100%|██████████| 12/12 [09:17<00:00, 46.42s/it]\n",
            "100%|██████████| 4/4 [01:03<00:00, 15.86s/it]\n"
          ]
        },
        {
          "name": "stdout",
          "output_type": "stream",
          "text": [
            "training_loss:0.2532,26864404.0000\n",
            "validation_loss:0.3796,23283412.0000\n"
          ]
        },
        {
          "name": "stderr",
          "output_type": "stream",
          "text": [
            "100%|██████████| 12/12 [09:16<00:00, 46.35s/it]\n",
            "100%|██████████| 4/4 [01:05<00:00, 16.30s/it]\n"
          ]
        },
        {
          "name": "stdout",
          "output_type": "stream",
          "text": [
            "training_loss:0.2188,26864404.0000\n",
            "validation_loss:0.3557,23283412.0000\n"
          ]
        },
        {
          "name": "stderr",
          "output_type": "stream",
          "text": [
            "100%|██████████| 12/12 [09:15<00:00, 46.25s/it]\n",
            "100%|██████████| 4/4 [01:03<00:00, 15.90s/it]\n"
          ]
        },
        {
          "name": "stdout",
          "output_type": "stream",
          "text": [
            "training_loss:0.1852,26864404.0000\n",
            "validation_loss:0.2999,23283412.0000\n"
          ]
        },
        {
          "name": "stderr",
          "output_type": "stream",
          "text": [
            "100%|██████████| 12/12 [09:16<00:00, 46.41s/it]\n",
            "100%|██████████| 4/4 [01:02<00:00, 15.72s/it]"
          ]
        },
        {
          "name": "stdout",
          "output_type": "stream",
          "text": [
            "training_loss:0.1676,26864404.0000\n",
            "validation_loss:0.2615,23283412.0000\n"
          ]
        },
        {
          "name": "stderr",
          "output_type": "stream",
          "text": [
            "\n"
          ]
        }
      ],
      "source": [
        "for e in range(epochs):\n",
        "    loss = 0.0\n",
        "    correct = 0.0\n",
        "    val_loss=0.0\n",
        "    val_correct=0.0\n",
        "    metric = 0.0\n",
        "    val_metric = 0.0\n",
        "    for num_file in tqdm(train_ids):\n",
        "\n",
        "        itk_img = itk.ReadImage(f'{path}/{num_file}_image.nii.gz')\n",
        "        img = itk.GetArrayFromImage(itk_img)\n",
        "        itk_img = itk.ReadImage(f'{path}/{num_file}_label.nii.gz')\n",
        "        msk = itk.GetArrayFromImage(itk_img)\n",
        "\n",
        "        for num_image in range(0, img.shape[0], 1):\n",
        "\n",
        "            image = np.array(img[num_image].copy())\n",
        "            image_tensor = transform(image).float()\n",
        "            image_tensor = image_tensor.to(device)\n",
        "\n",
        "\n",
        "            mask = np.array(msk[num_image], dtype=np.float32)\n",
        "\n",
        "            mask_tensor = transform(mask).float()\n",
        "            mask_tensor=mask_tensor.to(device)\n",
        "\n",
        "\n",
        "            outputs = model(image_tensor.unsqueeze(0))\n",
        "            loss1 = criteron(outputs, mask_tensor.unsqueeze(0))\n",
        "            metric1=iou_pytorch(outputs,mask_tensor)\n",
        "\n",
        "            optimizer.zero_grad()\n",
        "            loss1.backward()\n",
        "            optimizer.step()\n",
        "\n",
        "            _, preds = torch.max(outputs, 1)\n",
        "            loss1=loss1.to(device)\n",
        "            loss += loss1.item()\n",
        "            metric += metric1.item()\n",
        "            correct += torch.sum(preds == mask_tensor.data)\n",
        "\n",
        "    else: #val\n",
        "        with torch.no_grad():\n",
        "            for val_num_file in tqdm(val_ids):\n",
        "\n",
        "              itk_img = itk.ReadImage(f'{path}/{val_num_file}_image.nii.gz')\n",
        "              img = itk.GetArrayFromImage(itk_img)\n",
        "              itk_img = itk.ReadImage(f'{path}/{val_num_file}_label.nii.gz')\n",
        "              msk = itk.GetArrayFromImage(itk_img)\n",
        "\n",
        "              for num_image in range(0, img.shape[0], 1):\n",
        "\n",
        "                  image = np.array(img[num_image].copy())\n",
        "                  image_tensor = transform(image).float()\n",
        "                  image_tensor = image_tensor.to(device)\n",
        "\n",
        "\n",
        "                  mask = np.array(msk[num_image], dtype=np.float32)\n",
        "\n",
        "                  mask_tensor = transform(mask).float()\n",
        "                  mask_tensor=mask_tensor.to(device)\n",
        "\n",
        "                  val_outputs = model(image_tensor.unsqueeze(0))\n",
        "                  val_loss1 = criteron(val_outputs, mask_tensor.unsqueeze(0))\n",
        "                  val_metric1=iou_pytorch(val_outputs, mask_tensor)\n",
        "                  optimizer.zero_grad()\n",
        "                  _, val_preds = torch.max(val_outputs, 1)\n",
        "                  val_loss += val_loss1.item()\n",
        "                  val_metric += val_metric1.item()\n",
        "                  val_correct += torch.sum(val_preds == mask_tensor.data)\n",
        "\n",
        "\n",
        "        epoch_loss=loss/len(train_ids)\n",
        "        epoch_acc=correct.float()/len(train_ids)\n",
        "        epoch_metric=metric/len(train_ids)\n",
        "        #print(\"ep met\")\n",
        "        #print(epoch_metric)\n",
        "        loss_history.append(epoch_loss)\n",
        "        metric_history.append(epoch_metric)\n",
        "        correct_history.append(epoch_acc)\n",
        "        val_epoch_loss=val_loss/len(val_ids)\n",
        "        val_epoch_acc=val_correct.float()/len(val_ids)\n",
        "        val_epoch_metric=val_metric/len(val_ids)\n",
        "        val_loss_history.append(val_epoch_loss)\n",
        "        val_metric_history.append(epoch_metric)\n",
        "        val_correct_history.append(val_epoch_acc)\n",
        "        model_history.append(model)\n",
        "        print('training_loss:{:.4f},{:.4f}'.format(epoch_loss,epoch_acc.item()))\n",
        "        print('validation_loss:{:.4f},{:.4f}'.format(val_epoch_loss,val_epoch_acc.item()))\n"
      ]
    },
    {
      "cell_type": "markdown",
      "metadata": {
        "id": "Z9NwuUFeVDit"
      },
      "source": [
        "Погрешнось обучения на тренировочной и валидационной выборке"
      ]
    },
    {
      "cell_type": "code",
      "execution_count": 11,
      "metadata": {
        "colab": {
          "base_uri": "https://localhost:8080/",
          "height": 472
        },
        "id": "aUETF1TEVQAb",
        "outputId": "4f70a344-2775-454f-e8f5-ad06f23e859e"
      },
      "outputs": [
        {
          "data": {
            "image/png": "[encoded data removed]",
            "text/plain": [
              "<Figure size 640x480 with 1 Axes>"
            ]
          },
          "metadata": {},
          "output_type": "display_data"
        }
      ],
      "source": [
        "import matplotlib.pyplot as plt\n",
        "\n",
        "plt.plot(loss_history, 'o-r', label='Training Loss')\n",
        "plt.plot(val_loss_history, 'o-b', label='Validation Loss')\n",
        "\n",
        "plt.xlabel('Epochs')\n",
        "plt.ylabel('Loss')\n",
        "plt.title('Training and Validation Loss Over Epochs')\n",
        "\n",
        "plt.legend()\n",
        "\n",
        "plt.show()"
      ]
    },
    {
      "cell_type": "markdown",
      "metadata": {
        "id": "nhxT9aZ8FDbV"
      },
      "source": [
        "Метрики обучения на валидационной выборке\n",
        "\n",
        "\n"
      ]
    },
    {
      "cell_type": "code",
      "execution_count": 12,
      "metadata": {
        "colab": {
          "base_uri": "https://localhost:8080/",
          "height": 430
        },
        "id": "sFmCH0hrgF4w",
        "outputId": "f6f25066-27ab-48cb-e0fc-f48952940068"
      },
      "outputs": [
        {
          "data": {
            "image/png": "[encoded data removed]",
            "text/plain": [
              "<Figure size 640x480 with 1 Axes>"
            ]
          },
          "metadata": {},
          "output_type": "display_data"
        }
      ],
      "source": [
        "plt.plot(val_metric_history, label='Validation Metric')\n",
        "\n",
        "plt.legend()\n",
        "\n",
        "plt.show()"
      ]
    },
    {
      "cell_type": "markdown",
      "metadata": {
        "id": "l8g_soVbFG1F"
      },
      "source": [
        "Нахождение минимальной погрешности"
      ]
    },
    {
      "cell_type": "code",
      "execution_count": 13,
      "metadata": {
        "colab": {
          "base_uri": "https://localhost:8080/"
        },
        "id": "8X_e4PZsinFB",
        "outputId": "3bdcf695-94f4-4fb5-9a8d-fc1eb6522d02"
      },
      "outputs": [
        {
          "name": "stdout",
          "output_type": "stream",
          "text": [
            "0.0003497027500092287\n",
            "1\n"
          ]
        }
      ],
      "source": [
        "min_metric=min(metric_history)\n",
        "id_min_metric=metric_history.index(min_metric)\n",
        "print(min_metric)\n",
        "print(id_min_metric)"
      ]
    },
    {
      "cell_type": "markdown",
      "metadata": {
        "id": "AYFfAQrlFL53"
      },
      "source": [
        "Схранение лучших параметров модели в новую"
      ]
    },
    {
      "cell_type": "code",
      "execution_count": 14,
      "metadata": {
        "id": "I7qR16Sp_3dy"
      },
      "outputs": [],
      "source": [
        "torch.save(model_history[id_min_metric], 'model_min_loss1.pth')"
      ]
    },
    {
      "cell_type": "code",
      "execution_count": 16,
      "metadata": {
        "id": "G9rjbYLiESbT"
      },
      "outputs": [],
      "source": [
        "model_min_metric = torch.load('model_min_loss1.pth')"
      ]
    },
    {
      "cell_type": "markdown",
      "metadata": {
        "id": "fnFzZRzc7Dm2"
      },
      "source": [
        "Тестирование сохраненной модели"
      ]
    },
    {
      "cell_type": "code",
      "execution_count": 29,
      "metadata": {
        "colab": {
          "base_uri": "https://localhost:8080/"
        },
        "id": "Mp26ljRz7FPu",
        "outputId": "599d9840-87de-423d-c0cf-44a9fffa48ce"
      },
      "outputs": [
        {
          "name": "stderr",
          "output_type": "stream",
          "text": [
            " 12%|█▎        | 1/8 [00:40<04:43, 40.54s/it]"
          ]
        },
        {
          "name": "stdout",
          "output_type": "stream",
          "text": [
            "training_loss:0.0789,6280540.5000\n",
            "validation_loss:0.0789,6280540.5000\n"
          ]
        },
        {
          "name": "stderr",
          "output_type": "stream",
          "text": [
            "\r 25%|██▌       | 2/8 [01:14<03:39, 36.50s/it]"
          ]
        },
        {
          "name": "stdout",
          "output_type": "stream",
          "text": [
            "training_loss:0.0593,5202614.0000\n",
            "validation_loss:0.0593,5202614.0000\n"
          ]
        },
        {
          "name": "stderr",
          "output_type": "stream",
          "text": [
            "\r 38%|███▊      | 3/8 [01:57<03:18, 39.64s/it]"
          ]
        },
        {
          "name": "stdout",
          "output_type": "stream",
          "text": [
            "training_loss:0.0645,6641993.0000\n",
            "validation_loss:0.0645,6641993.0000\n"
          ]
        },
        {
          "name": "stderr",
          "output_type": "stream",
          "text": [
            "\r 50%|█████     | 4/8 [02:31<02:29, 37.28s/it]"
          ]
        },
        {
          "name": "stdout",
          "output_type": "stream",
          "text": [
            "training_loss:0.0577,5038832.5000\n",
            "validation_loss:0.0577,5038832.5000\n"
          ]
        },
        {
          "name": "stderr",
          "output_type": "stream",
          "text": [
            "\r 62%|██████▎   | 5/8 [03:09<01:53, 37.72s/it]"
          ]
        },
        {
          "name": "stdout",
          "output_type": "stream",
          "text": [
            "training_loss:0.0430,5430923.0000\n",
            "validation_loss:0.0430,5430923.0000\n"
          ]
        },
        {
          "name": "stderr",
          "output_type": "stream",
          "text": [
            "\r 75%|███████▌  | 6/8 [03:55<01:21, 40.55s/it]"
          ]
        },
        {
          "name": "stdout",
          "output_type": "stream",
          "text": [
            "training_loss:0.0663,6744780.0000\n",
            "validation_loss:0.0663,6744780.0000\n"
          ]
        },
        {
          "name": "stderr",
          "output_type": "stream",
          "text": [
            "\r 88%|████████▊ | 7/8 [04:30<00:38, 38.50s/it]"
          ]
        },
        {
          "name": "stdout",
          "output_type": "stream",
          "text": [
            "training_loss:0.0526,4906139.5000\n",
            "validation_loss:0.0526,4906139.5000\n"
          ]
        },
        {
          "name": "stderr",
          "output_type": "stream",
          "text": [
            "100%|██████████| 8/8 [05:26<00:00, 40.77s/it]"
          ]
        },
        {
          "name": "stdout",
          "output_type": "stream",
          "text": [
            "training_loss:0.0742,8079997.5000\n",
            "validation_loss:0.0742,8079997.5000\n"
          ]
        },
        {
          "name": "stderr",
          "output_type": "stream",
          "text": [
            "\n"
          ]
        }
      ],
      "source": [
        "test_loss_history=[]\n",
        "test_metric_history=[]\n",
        "test_correct_history=[]\n",
        "\n",
        "loss = 0.0\n",
        "correct = 0.0\n",
        "metric = 0.0\n",
        "for num_file in tqdm(test_ids):\n",
        "    loss = 0.0\n",
        "    correct = 0.0\n",
        "    metric = 0.0\n",
        "\n",
        "\n",
        "    itk_img = itk.ReadImage(f'{path}/{num_file}_image.nii.gz')\n",
        "    img = itk.GetArrayFromImage(itk_img)\n",
        "    itk_img = itk.ReadImage(f'{path}/{num_file}_label.nii.gz')\n",
        "    msk = itk.GetArrayFromImage(itk_img)\n",
        "\n",
        "    temp=0\n",
        "    for num_image in range(0, img.shape[0], 1):\n",
        "        image = np.array(img[num_image].copy())\n",
        "\n",
        "        image_tensor = transform(image).float()\n",
        "        image_tensor = image_tensor.to(device)\n",
        "\n",
        "\n",
        "        mask = np.array(msk[num_image], dtype=np.float32)\n",
        "\n",
        "        mask_tensor = transform(mask).float()\n",
        "        mask_tensor=mask_tensor.to(device)\n",
        "\n",
        "\n",
        "        outputs = model_min_metric(image_tensor.unsqueeze(0))\n",
        "        loss1 = criteron(outputs, mask_tensor.unsqueeze(0))\n",
        "        metric1=iou_pytorch(outputs,mask_tensor)\n",
        "        #metric1=metric_IoU(outputs.unsqueeze(0), mask_tensor.unsqueeze(0))\n",
        "        optimizer.zero_grad()\n",
        "        loss1.backward()\n",
        "        optimizer.step()\n",
        "\n",
        "        _, preds = torch.max(outputs, 1)\n",
        "        loss1=loss1.to(device)\n",
        "        loss += loss1.item()\n",
        "        metric += metric1.item()\n",
        "        correct += torch.sum(preds == mask_tensor.data)\n",
        "        #print(temp)\n",
        "        #temp+=1\n",
        "    else:\n",
        "        test_epoch_loss=loss/len(test_ids)\n",
        "        test_epoch_acc=correct.float()/len(test_ids)\n",
        "        test_epoch_metric=metric/len(test_ids)\n",
        "        test_loss_history.append(test_epoch_loss)\n",
        "        test_metric_history.append(test_epoch_metric)\n",
        "        test_correct_history.append(test_epoch_acc)\n",
        "        print('training_loss:{:.4f},{:.4f}'.format(test_epoch_loss,test_epoch_acc.item()))\n",
        "        print('validation_loss:{:.4f},{:.4f}'.format(test_epoch_loss,test_epoch_acc.item()))\n"
      ]
    },
    {
      "cell_type": "markdown",
      "metadata": {
        "id": "fHy9LOyTVgN6"
      },
      "source": [
        "Погрешнось обучения тестовой выборки"
      ]
    },
    {
      "cell_type": "code",
      "execution_count": 30,
      "metadata": {
        "colab": {
          "base_uri": "https://localhost:8080/",
          "height": 448
        },
        "id": "4goETgb1VgN7",
        "outputId": "533bc0d6-19f2-4bbb-e248-4493e8c4a2d8"
      },
      "outputs": [
        {
          "data": {
            "text/plain": [
              "[<matplotlib.lines.Line2D at 0x7d25ae344be0>]"
            ]
          },
          "execution_count": 30,
          "metadata": {},
          "output_type": "execute_result"
        },
        {
          "data": {
            "image/png": "[encoded data removed]",
            "text/plain": [
              "<Figure size 640x480 with 1 Axes>"
            ]
          },
          "metadata": {},
          "output_type": "display_data"
        }
      ],
      "source": [
        "plt.plot(test_loss_history, label='Running Loss History')"
      ]
    },
    {
      "cell_type": "markdown",
      "metadata": {
        "id": "VYU80m2EF18c"
      },
      "source": [
        "Метрики обучения тестовой выборки"
      ]
    },
    {
      "cell_type": "code",
      "execution_count": 31,
      "metadata": {
        "colab": {
          "base_uri": "https://localhost:8080/",
          "height": 452
        },
        "id": "b96R3vepFvK2",
        "outputId": "af457441-e3f0-4f6d-ceb6-1f917b3ac367"
      },
      "outputs": [
        {
          "data": {
            "text/plain": [
              "[<matplotlib.lines.Line2D at 0x7d25ae1cc6d0>]"
            ]
          },
          "execution_count": 31,
          "metadata": {},
          "output_type": "execute_result"
        },
        {
          "data": {
            "image/png": "[encoded data removed]",
            "text/plain": [
              "<Figure size 640x480 with 1 Axes>"
            ]
          },
          "metadata": {},
          "output_type": "display_data"
        }
      ],
      "source": [
        "plt.plot(test_metric_history, label='Running Loss History')"
      ]
    },
    {
      "cell_type": "markdown",
      "metadata": {
        "id": "qfCc8mJPF-fQ"
      },
      "source": [
        "\n",
        "\n",
        "---\n",
        "\n",
        "\n",
        "\n",
        "---\n",
        "\n",
        "\n",
        "\n",
        "---\n",
        "\n",
        "\n",
        "\n",
        "---\n",
        "\n"
      ]
    },
    {
      "cell_type": "markdown",
      "metadata": {
        "id": "FATeCVyM5B5A"
      },
      "source": [
        "Сохранение и загрузка модели"
      ]
    },
    {
      "cell_type": "code",
      "execution_count": null,
      "metadata": {
        "id": "eOlKVzLR48sJ"
      },
      "outputs": [],
      "source": [
        "torch.save(model, 'model3.pth')"
      ]
    },
    {
      "cell_type": "code",
      "execution_count": 27,
      "metadata": {
        "id": "5WMvWL8WkBVu"
      },
      "outputs": [],
      "source": [
        "path_on_drive = '/content/drive/MyDrive/unet_model/your_model3.pth'\n",
        "\n",
        "# Сохранение модели\n",
        "torch.save(model, path_on_drive)"
      ]
    },
    {
      "cell_type": "code",
      "execution_count": null,
      "metadata": {
        "id": "xNAAVc295GDX"
      },
      "outputs": [],
      "source": [
        "model = torch.load('model.pth')"
      ]
    },
    {
      "cell_type": "markdown",
      "metadata": {
        "id": "g7qg2eMW5VtE"
      },
      "source": [
        "Сохранение и загрузка параметров модели"
      ]
    },
    {
      "cell_type": "code",
      "execution_count": null,
      "metadata": {
        "id": "gkzL2YrK5YO8"
      },
      "outputs": [],
      "source": [
        "torch.save(model.state_dict(), 'model_parameters2.pth')"
      ]
    },
    {
      "cell_type": "code",
      "execution_count": 26,
      "metadata": {
        "id": "Yd-n0TdBlC-X"
      },
      "outputs": [],
      "source": [
        "path_on_drive = '/content/drive/MyDrive/unet_model/your_model_parameters3.pth'\n",
        "\n",
        "# Сохранение модели\n",
        "torch.save(model.state_dict(), path_on_drive)"
      ]
    },
    {
      "cell_type": "code",
      "execution_count": null,
      "metadata": {
        "id": "yHPzPWPn5Z2q"
      },
      "outputs": [],
      "source": [
        "model.load_state_dict(torch.load('model_parameters.pth'))"
      ]
    },
    {
      "cell_type": "markdown",
      "metadata": {
        "id": "mSILr0zy6MRB"
      },
      "source": [
        "Сохранить  и загрузить состояние оптимизатора\n"
      ]
    },
    {
      "cell_type": "code",
      "execution_count": null,
      "metadata": {
        "id": "gWmqzPUH6Tlx"
      },
      "outputs": [],
      "source": [
        "torch.save(optimizer.state_dict(), 'optimizer_state1.pth')"
      ]
    },
    {
      "cell_type": "code",
      "execution_count": 28,
      "metadata": {
        "id": "HnvDGV9vlY4N"
      },
      "outputs": [],
      "source": [
        "path_on_drive = '/content/drive/MyDrive/unet_model/optimizer3.pth'\n",
        "\n",
        "# Сохранение состояния оптимизатора\n",
        "torch.save(optimizer.state_dict(), path_on_drive)"
      ]
    },
    {
      "cell_type": "code",
      "execution_count": null,
      "metadata": {
        "id": "344DJhTT6Zzz"
      },
      "outputs": [],
      "source": [
        "optimizer.load_state_dict(torch.load('optimizer_state.pth'))"
      ]
    }
  ],
  "metadata": {
    "accelerator": "GPU",
    "colab": {
      "gpuType": "T4",
      "provenance": []
    },
    "kernelspec": {
      "display_name": "Python 3",
      "name": "python3"
    },
    "language_info": {
      "name": "python"
    }
  },
  "nbformat": 4,
  "nbformat_minor": 0
}
